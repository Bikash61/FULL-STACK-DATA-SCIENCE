{
 "cells": [
  {
   "cell_type": "code",
   "execution_count": 10,
   "id": "3294866f-6093-44a2-a2da-1e896b40ef5d",
   "metadata": {},
   "outputs": [],
   "source": [
    "class Person:\n",
    "    def __init__(self,name):\n",
    "        self.name = name\n",
    "    def display_info(self):\n",
    "        print(f'name is : {self.name}') "
   ]
  },
  {
   "cell_type": "code",
   "execution_count": 11,
   "id": "f11504b1-d3cf-4e06-bfcf-5493ad5ef1c5",
   "metadata": {},
   "outputs": [],
   "source": [
    "class Student(Person):\n",
    "    def __init__(self,name,grade):\n",
    "        super().__init__(name)\n",
    "        self.grade = grade\n",
    "    def display_info(self):\n",
    "        super().display_info()\n",
    "        print(f\"Grade is : {self.grade}\")"
   ]
  },
  {
   "cell_type": "code",
   "execution_count": 12,
   "id": "5c5a54a8-c6ef-43c1-b24c-a39b31dcddd8",
   "metadata": {},
   "outputs": [
    {
     "name": "stdout",
     "output_type": "stream",
     "text": [
      "name is : BIkash\n",
      "Grade is : A++\n"
     ]
    }
   ],
   "source": [
    "student1 = Student(\"BIkash\", 'A++')\n",
    "student1.display_info()"
   ]
  },
  {
   "cell_type": "code",
   "execution_count": 19,
   "id": "bfdad0e2-4e17-4259-b991-7be6636a2d44",
   "metadata": {},
   "outputs": [],
   "source": [
    "class Vehicle:\n",
    "    def __init__(self,model):\n",
    "        self.model = model\n",
    "    def start(self):\n",
    "        print(f'{self.model} Vehicle is Started.')"
   ]
  },
  {
   "cell_type": "code",
   "execution_count": 20,
   "id": "a2945739-e88c-479b-afe2-490f9a2b91fc",
   "metadata": {},
   "outputs": [],
   "source": [
    "class Car(Vehicle):\n",
    "    def __init__(self,model,brand,type):\n",
    "        super().__init__(model)\n",
    "        self.brand = brand\n",
    "        self.type = type\n",
    "    def start(self):\n",
    "        super().start()\n",
    "        print(f'Car has been started of {self.model} and {self.brand}')"
   ]
  },
  {
   "cell_type": "code",
   "execution_count": 21,
   "id": "de933f48-616f-4aa3-b323-828cddce5efd",
   "metadata": {},
   "outputs": [],
   "source": [
    "caaar1 = Car(\"3Gen\", \"Rolls Royce\", \"Advance\")"
   ]
  },
  {
   "cell_type": "code",
   "execution_count": 22,
   "id": "75a2f8e2-65e0-4548-a994-729149ad114d",
   "metadata": {},
   "outputs": [
    {
     "name": "stdout",
     "output_type": "stream",
     "text": [
      "3Gen Vehicle is Started.\n",
      "Car has been started of 3Gen and Rolls Royce\n"
     ]
    }
   ],
   "source": [
    "caaar1.start()"
   ]
  },
  {
   "cell_type": "code",
   "execution_count": 24,
   "id": "002cbe4d-6a28-40ef-b5be-e31f10225583",
   "metadata": {},
   "outputs": [],
   "source": [
    "class Animal:\n",
    "    def __init__(self,name):\n",
    "        self.name = name\n",
    "    def animal_sound(self, sound):\n",
    "        self.sound = sound\n",
    "        print(f'The sound of an animal is {self.sound}')"
   ]
  },
  {
   "cell_type": "code",
   "execution_count": 28,
   "id": "72380b7b-65fe-4719-8b06-7c412ad8a14e",
   "metadata": {},
   "outputs": [],
   "source": [
    "class Dog(Animal):\n",
    "    def __init__(self,name,age):\n",
    "        super().__init__(name)\n",
    "        self.age = age\n",
    "    def animal_sound(self,sound):\n",
    "        super().animal_sound(sound)\n",
    "        print(f'The sound of an {self.name} is {self.sound}')"
   ]
  },
  {
   "cell_type": "code",
   "execution_count": 29,
   "id": "f02b46bd-9ac5-49bf-ba10-3e338029f2d1",
   "metadata": {},
   "outputs": [],
   "source": [
    "animal = Dog('Ricky', 30)"
   ]
  },
  {
   "cell_type": "code",
   "execution_count": 30,
   "id": "6b835935-e7bf-463b-86d7-6b902eadafc7",
   "metadata": {},
   "outputs": [
    {
     "name": "stdout",
     "output_type": "stream",
     "text": [
      "The sound of an animal is Bhau Bhau\n",
      "The sound of an Ricky is Bhau Bhau\n"
     ]
    }
   ],
   "source": [
    "animal.animal_sound(\"Bhau Bhau\")"
   ]
  },
  {
   "cell_type": "markdown",
   "id": "b3ae9fd4-ac77-4c79-90f9-c473f9e833b1",
   "metadata": {},
   "source": [
    "## Acesss Nodifiers"
   ]
  },
  {
   "cell_type": "code",
   "execution_count": null,
   "id": "c51576e9-bfaa-4cd3-95f3-39bf37ffb381",
   "metadata": {},
   "outputs": [],
   "source": []
  },
  {
   "cell_type": "markdown",
   "id": "4daf4c84-0604-4267-9334-cfb56b976a03",
   "metadata": {},
   "source": [
    " ## 1. the Person class has a constructor that takes name and age as arguments and assigns them to the object's attributes. The introduce method is then invoked on the object to introduce the person."
   ]
  },
  {
   "cell_type": "code",
   "execution_count": null,
   "id": "9995e142-cc58-4aa3-81df-b5b7c023fbbf",
   "metadata": {},
   "outputs": [],
   "source": []
  }
 ],
 "metadata": {
  "kernelspec": {
   "display_name": "Python 3 (ipykernel)",
   "language": "python",
   "name": "python3"
  },
  "language_info": {
   "codemirror_mode": {
    "name": "ipython",
    "version": 3
   },
   "file_extension": ".py",
   "mimetype": "text/x-python",
   "name": "python",
   "nbconvert_exporter": "python",
   "pygments_lexer": "ipython3",
   "version": "3.11.5"
  }
 },
 "nbformat": 4,
 "nbformat_minor": 5
}
