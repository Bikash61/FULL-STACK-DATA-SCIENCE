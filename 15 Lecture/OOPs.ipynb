{
 "cells": [
  {
   "cell_type": "code",
   "execution_count": 1,
   "id": "945d8aab-05c6-4410-92c6-35852f7c9323",
   "metadata": {},
   "outputs": [],
   "source": [
    "## Classes"
   ]
  },
  {
   "cell_type": "code",
   "execution_count": 2,
   "id": "8fb1fbf0-5efb-4886-b7fd-8b71a82e33d4",
   "metadata": {},
   "outputs": [],
   "source": [
    "class Person:\n",
    "    pass"
   ]
  },
  {
   "cell_type": "code",
   "execution_count": 3,
   "id": "3fe347ec-66c2-4e1b-96e9-86108662cd04",
   "metadata": {},
   "outputs": [],
   "source": [
    "Person1 = Person()"
   ]
  },
  {
   "cell_type": "code",
   "execution_count": 4,
   "id": "d064b0fe-908e-4adb-be43-19760f166f52",
   "metadata": {},
   "outputs": [
    {
     "data": {
      "text/plain": [
       "<__main__.Person at 0x22e52f35490>"
      ]
     },
     "execution_count": 4,
     "metadata": {},
     "output_type": "execute_result"
    }
   ],
   "source": [
    "Person1"
   ]
  },
  {
   "cell_type": "code",
   "execution_count": 5,
   "id": "f78bdab9-4d53-4f82-a7c9-c79a9ebfb7dd",
   "metadata": {},
   "outputs": [],
   "source": [
    "Person1.name = \"BIkash Bashyal\""
   ]
  },
  {
   "cell_type": "code",
   "execution_count": 6,
   "id": "71110e5d-228c-43c4-8028-01cb47844f83",
   "metadata": {},
   "outputs": [
    {
     "data": {
      "text/plain": [
       "<__main__.Person at 0x22e52f35490>"
      ]
     },
     "execution_count": 6,
     "metadata": {},
     "output_type": "execute_result"
    }
   ],
   "source": [
    "Person1"
   ]
  },
  {
   "cell_type": "code",
   "execution_count": 7,
   "id": "b3d0bca7-c914-4878-aa65-d940a944760a",
   "metadata": {},
   "outputs": [],
   "source": [
    "Person1.lastname = \"bashyalll\""
   ]
  },
  {
   "cell_type": "code",
   "execution_count": 10,
   "id": "7b22e357-cf59-42ea-af85-8e89db30b1bd",
   "metadata": {},
   "outputs": [
    {
     "data": {
      "text/plain": [
       "['__class__',\n",
       " '__delattr__',\n",
       " '__dict__',\n",
       " '__dir__',\n",
       " '__doc__',\n",
       " '__eq__',\n",
       " '__format__',\n",
       " '__ge__',\n",
       " '__getattribute__',\n",
       " '__getstate__',\n",
       " '__gt__',\n",
       " '__hash__',\n",
       " '__init__',\n",
       " '__init_subclass__',\n",
       " '__le__',\n",
       " '__lt__',\n",
       " '__module__',\n",
       " '__ne__',\n",
       " '__new__',\n",
       " '__reduce__',\n",
       " '__reduce_ex__',\n",
       " '__repr__',\n",
       " '__setattr__',\n",
       " '__sizeof__',\n",
       " '__str__',\n",
       " '__subclasshook__',\n",
       " '__weakref__',\n",
       " 'lastname',\n",
       " 'name']"
      ]
     },
     "execution_count": 10,
     "metadata": {},
     "output_type": "execute_result"
    }
   ],
   "source": [
    "dir(Person1)"
   ]
  },
  {
   "cell_type": "code",
   "execution_count": 25,
   "id": "9976fb95-012c-469d-852a-d03b069daa54",
   "metadata": {},
   "outputs": [],
   "source": [
    "class Person:\n",
    "    def __init__(self,name1,last_name1):\n",
    "        self.name = name1\n",
    "        self.last_name = last_name1\n",
    "    def __str__(self):\n",
    "        return \"The name is {} and the last name is {}\".format(self.name, self.last_name)"
   ]
  },
  {
   "cell_type": "code",
   "execution_count": 14,
   "id": "8157bb4d-5b9b-45b8-aa56-d8947af0f9b8",
   "metadata": {},
   "outputs": [],
   "source": [
    "person = Person(\"Bikash\",\"Bashyal\")"
   ]
  },
  {
   "cell_type": "code",
   "execution_count": 15,
   "id": "d02ff489-de0b-4949-82ac-d145683b939c",
   "metadata": {},
   "outputs": [
    {
     "name": "stdout",
     "output_type": "stream",
     "text": [
      "Bikash\n"
     ]
    }
   ],
   "source": [
    "print(person.name)"
   ]
  },
  {
   "cell_type": "code",
   "execution_count": 16,
   "id": "84551e59-ec65-4304-9382-1761568ab079",
   "metadata": {},
   "outputs": [
    {
     "name": "stdout",
     "output_type": "stream",
     "text": [
      "Bashyal\n"
     ]
    }
   ],
   "source": [
    "print(person.last_name)"
   ]
  },
  {
   "cell_type": "code",
   "execution_count": 17,
   "id": "79854c72-3e1a-4799-b444-c998fc1e897f",
   "metadata": {},
   "outputs": [],
   "source": [
    "person2 = Person(\"Harish\", \"Pardhan\")"
   ]
  },
  {
   "cell_type": "code",
   "execution_count": 18,
   "id": "d454ed0e-0425-4a26-b215-98f11024d16b",
   "metadata": {},
   "outputs": [
    {
     "data": {
      "text/plain": [
       "'Harish'"
      ]
     },
     "execution_count": 18,
     "metadata": {},
     "output_type": "execute_result"
    }
   ],
   "source": [
    "person2.name"
   ]
  },
  {
   "cell_type": "code",
   "execution_count": 19,
   "id": "51cc9ce8-653b-4a79-986a-1d648ee0ef87",
   "metadata": {},
   "outputs": [
    {
     "data": {
      "text/plain": [
       "'Pardhan'"
      ]
     },
     "execution_count": 19,
     "metadata": {},
     "output_type": "execute_result"
    }
   ],
   "source": [
    "person2.last_name"
   ]
  },
  {
   "cell_type": "code",
   "execution_count": 28,
   "id": "abe030e1-cbbb-4ef2-9707-53baa8d6af2a",
   "metadata": {},
   "outputs": [
    {
     "name": "stdout",
     "output_type": "stream",
     "text": [
      "The name is Chambal and the last name is Kathari\n"
     ]
    }
   ],
   "source": [
    "person3 = Person(\"Chambal\", \"Kathari\")\n",
    "print(person3)\n"
   ]
  },
  {
   "cell_type": "code",
   "execution_count": 37,
   "id": "81d195fd-0ed1-43bd-820d-1c029620ee0f",
   "metadata": {},
   "outputs": [],
   "source": [
    "class Bank:\n",
    "    def __init__(self,name,bank_account,account_no):\n",
    "        self.name = name\n",
    "        self.bank_account = bank_account\n",
    "        self.account_no = account_no\n",
    "    def __str__(self):\n",
    "        return \"The name of an account holder is {} and type of bank account is {} and account no is {}\".format(self.name,self.bank_account,self.account_no)"
   ]
  },
  {
   "cell_type": "code",
   "execution_count": 38,
   "id": "d73327fb-3327-4fa4-bb62-3946d057c618",
   "metadata": {},
   "outputs": [],
   "source": [
    "bank1 = Bank(\"prabhu\", \"Private Account\", 2233)\n"
   ]
  },
  {
   "cell_type": "code",
   "execution_count": 39,
   "id": "c326b339-10c2-4792-bfd4-1fc624659116",
   "metadata": {},
   "outputs": [
    {
     "name": "stdout",
     "output_type": "stream",
     "text": [
      "The name of an account holder is prabhu and type of bank account is Private Account and account no is 2233\n"
     ]
    }
   ],
   "source": [
    "print(bank1)"
   ]
  },
  {
   "cell_type": "code",
   "execution_count": 60,
   "id": "f6925f04-47a8-4d59-a4d2-fa2a3394b1d4",
   "metadata": {},
   "outputs": [],
   "source": [
    "class BankAccount:\n",
    "    def __init__(self,account_number, account_holder, balance = 0):\n",
    "        self.account_number = account_number\n",
    "        self.account_holder = account_holder\n",
    "        self.balance = balance \n",
    "    def deposit(self,amount):\n",
    "        self.balance +=amount\n",
    "    def withdraw(self,amount):\n",
    "        if self.balance > amount:\n",
    "            self.balance -=amount\n",
    "        else:\n",
    "            print(\"Balance is Less, You can't withdraw\")\n"
   ]
  },
  {
   "cell_type": "code",
   "execution_count": 62,
   "id": "7891cd75-f3ee-47d4-a799-5ffeab06018b",
   "metadata": {},
   "outputs": [],
   "source": [
    "bank1 = BankAccount(1221,\"Bikash Bashyal\")"
   ]
  },
  {
   "cell_type": "code",
   "execution_count": 63,
   "id": "a6617b7b-4b93-4089-bd01-947802edf6be",
   "metadata": {},
   "outputs": [],
   "source": [
    "bank1.deposit(12322)"
   ]
  },
  {
   "cell_type": "code",
   "execution_count": 64,
   "id": "c3c2f3e6-9a07-496e-9ed6-dc57ee4bb081",
   "metadata": {},
   "outputs": [],
   "source": [
    "bank1.withdraw(231)"
   ]
  },
  {
   "cell_type": "code",
   "execution_count": 65,
   "id": "13061c82-f40c-45b5-b639-d6c321325ba2",
   "metadata": {},
   "outputs": [
    {
     "data": {
      "text/plain": [
       "12091"
      ]
     },
     "execution_count": 65,
     "metadata": {},
     "output_type": "execute_result"
    }
   ],
   "source": [
    "bank1.balance"
   ]
  },
  {
   "cell_type": "code",
   "execution_count": 66,
   "id": "fc7f1a49-bcd5-4a25-ba91-d03ea25f067c",
   "metadata": {},
   "outputs": [
    {
     "name": "stdout",
     "output_type": "stream",
     "text": [
      "Balance is Less, You can't withdraw\n"
     ]
    }
   ],
   "source": [
    "bank1.withdraw(123432)"
   ]
  },
  {
   "cell_type": "code",
   "execution_count": 100,
   "id": "4ee33161-bdcf-4056-854d-bdc75b7375f3",
   "metadata": {},
   "outputs": [],
   "source": [
    "class Todo_List:\n",
    "    def __init__(self,owner):\n",
    "        self.owner = owner\n",
    "        self.task = []\n",
    "    def add_tasks(self,task):\n",
    "        self.task.append(task)\n",
    "    def complete_tasks(self,task):\n",
    "        if tas in self.task:\n",
    "            self.task.remove(task)\n",
    "            print(f\"Task {task} is completed\")\n",
    "        else:\n",
    "            print(\"Task is not found\")\n",
    "    def display_tasks(self):\n",
    "        print(f\"The todo list of the {self.owner} is : \")\n",
    "        for i in self.task:\n",
    "            print(i)\n",
    "            "
   ]
  },
  {
   "cell_type": "code",
   "execution_count": 101,
   "id": "15cb27ab-dcec-469f-80b2-b91b2cdf86e5",
   "metadata": {},
   "outputs": [],
   "source": [
    "todo_bikash1 = Todo_List(\"Bikash\")"
   ]
  },
  {
   "cell_type": "code",
   "execution_count": 102,
   "id": "8f9d49c6-f8d4-457e-9160-afac50c99515",
   "metadata": {},
   "outputs": [],
   "source": [
    "todo_bikash1.add_tasks(\"I have to read from 9\")"
   ]
  },
  {
   "cell_type": "code",
   "execution_count": 103,
   "id": "6238c1be-dca5-4669-9031-f1c3af061dbc",
   "metadata": {},
   "outputs": [
    {
     "name": "stdout",
     "output_type": "stream",
     "text": [
      "The todo list of the Bikash is : \n",
      "I have to read from 9\n"
     ]
    }
   ],
   "source": [
    "todo_bikash1.display_tasks()"
   ]
  },
  {
   "cell_type": "code",
   "execution_count": 104,
   "id": "35076798-f088-4e45-a6b3-807749c23bc9",
   "metadata": {},
   "outputs": [],
   "source": [
    "class BankAccount:\n",
    "    def __init__(self,account_number,account_holder, balance=0):\n",
    "        self.account_number = account_number\n",
    "        self.account_holder = account_holder\n",
    "        self.balance = balance"
   ]
  },
  {
   "cell_type": "code",
   "execution_count": 105,
   "id": "e29157b9-5ed5-4f7d-8ce5-7c01d07e16a9",
   "metadata": {},
   "outputs": [],
   "source": [
    "per1 = BankAccount(2232,\"Bikash\")"
   ]
  },
  {
   "cell_type": "code",
   "execution_count": 106,
   "id": "ad99cb95-bd30-40a2-93c8-ab9ff3c1e4b2",
   "metadata": {},
   "outputs": [
    {
     "data": {
      "text/plain": [
       "0"
      ]
     },
     "execution_count": 106,
     "metadata": {},
     "output_type": "execute_result"
    }
   ],
   "source": [
    "per1.balance"
   ]
  },
  {
   "cell_type": "code",
   "execution_count": 107,
   "id": "dcc669d5-9b54-445c-b1f3-f48b64245bea",
   "metadata": {},
   "outputs": [
    {
     "data": {
      "text/plain": [
       "'Bikash'"
      ]
     },
     "execution_count": 107,
     "metadata": {},
     "output_type": "execute_result"
    }
   ],
   "source": [
    "per1.account_holder"
   ]
  },
  {
   "cell_type": "code",
   "execution_count": 126,
   "id": "8a31635f-07c4-4e82-b297-8943daa3cd02",
   "metadata": {},
   "outputs": [],
   "source": [
    "class Car:\n",
    "    def __init__(self,brand,model,colour):\n",
    "        self.brand = brand\n",
    "        self.model = model\n",
    "        self.colour = colour\n",
    "    def Driving(self):\n",
    "        return \"The car is driving\"\n",
    "    def StartEngine(self):\n",
    "        return \"Engine is starting \""
   ]
  },
  {
   "cell_type": "code",
   "execution_count": 127,
   "id": "c302e9d1-5868-4909-850f-1f0b2eb97236",
   "metadata": {},
   "outputs": [],
   "source": [
    "car1 = Car(\"ford\",121,'Blue')"
   ]
  },
  {
   "cell_type": "code",
   "execution_count": 128,
   "id": "2f0c68db-407e-4dfe-abf6-3b7b27cbf0c5",
   "metadata": {},
   "outputs": [
    {
     "data": {
      "text/plain": [
       "'ford'"
      ]
     },
     "execution_count": 128,
     "metadata": {},
     "output_type": "execute_result"
    }
   ],
   "source": [
    "car1.brand"
   ]
  },
  {
   "cell_type": "code",
   "execution_count": 129,
   "id": "615388cf-5e3b-4844-8645-24d6faecd6f4",
   "metadata": {},
   "outputs": [
    {
     "data": {
      "text/plain": [
       "'Blue'"
      ]
     },
     "execution_count": 129,
     "metadata": {},
     "output_type": "execute_result"
    }
   ],
   "source": [
    "car1.colour"
   ]
  },
  {
   "cell_type": "code",
   "execution_count": 130,
   "id": "cfb8ad3d-bd85-4a5c-8c3e-ae25ba6444a9",
   "metadata": {},
   "outputs": [
    {
     "data": {
      "text/plain": [
       "'The car is driving'"
      ]
     },
     "execution_count": 130,
     "metadata": {},
     "output_type": "execute_result"
    }
   ],
   "source": [
    "car1.Driving()"
   ]
  },
  {
   "cell_type": "code",
   "execution_count": 131,
   "id": "9e65177f-0469-416a-814f-2bef25cea263",
   "metadata": {},
   "outputs": [
    {
     "data": {
      "text/plain": [
       "'Engine is starting '"
      ]
     },
     "execution_count": 131,
     "metadata": {},
     "output_type": "execute_result"
    }
   ],
   "source": [
    "car1.StartEngine()"
   ]
  },
  {
   "cell_type": "code",
   "execution_count": 136,
   "id": "0b1836e2-1a67-48d9-9e8c-22fb1eeab8c5",
   "metadata": {},
   "outputs": [],
   "source": [
    "class Mobile:\n",
    "    def __init__(self,brand,model,processor,price):\n",
    "        self.brand = brand\n",
    "        self.model = model\n",
    "        self.processor = processor\n",
    "        self.price = price\n",
    "    def makecall(self):\n",
    "        return f'{self.brand} of {self.model} is making calls'\n",
    "    def playgame(self):\n",
    "        return f'{self.brand} of {self.processor} is very good for playing games'\n",
    "    def sendMessage(self):\n",
    "        return f'{self.brand} of {self.price} is good for sending messages  '"
   ]
  },
  {
   "cell_type": "code",
   "execution_count": 137,
   "id": "d1904469-61bf-492a-9242-bc4b9c5f0592",
   "metadata": {},
   "outputs": [],
   "source": [
    "sam = Mobile(\"samsung\", 'X&7', \"I&^\", 13131)"
   ]
  },
  {
   "cell_type": "code",
   "execution_count": 138,
   "id": "a76f4697-0ee6-4fb2-8b8c-ab0fba528252",
   "metadata": {},
   "outputs": [
    {
     "data": {
      "text/plain": [
       "'samsung of I&^ is very good for playing games'"
      ]
     },
     "execution_count": 138,
     "metadata": {},
     "output_type": "execute_result"
    }
   ],
   "source": [
    "sam.playgame()"
   ]
  },
  {
   "cell_type": "code",
   "execution_count": 140,
   "id": "c25d0818-3d07-471c-bb9b-0b10aa83f17b",
   "metadata": {},
   "outputs": [],
   "source": [
    "class Laptop:\n",
    "    def __init__(self,model,brand,RAM):\n",
    "        self.model = model\n",
    "        self.brand = brand\n",
    "        self.RAM = RAM\n",
    "    def poweron(self):\n",
    "        return f'The {self.model} had on the power'\n",
    "    def poweroff(self):\n",
    "        return f'The {self.model} had been powered off '"
   ]
  },
  {
   "cell_type": "code",
   "execution_count": 141,
   "id": "78ea20ff-d642-4e9c-96b0-c2240b8c1735",
   "metadata": {},
   "outputs": [],
   "source": [
    "lappy = Laptop('ewwf','dell',121)"
   ]
  },
  {
   "cell_type": "code",
   "execution_count": 142,
   "id": "09ab2fb7-3d14-45f6-ad3e-ac56789c6f4d",
   "metadata": {},
   "outputs": [
    {
     "data": {
      "text/plain": [
       "'The ewwf had on the power'"
      ]
     },
     "execution_count": 142,
     "metadata": {},
     "output_type": "execute_result"
    }
   ],
   "source": [
    "lappy.poweron()"
   ]
  },
  {
   "cell_type": "code",
   "execution_count": null,
   "id": "05f6638c-6c51-48a1-be2d-57c96bf8b7ca",
   "metadata": {},
   "outputs": [],
   "source": []
  }
 ],
 "metadata": {
  "kernelspec": {
   "display_name": "Python 3 (ipykernel)",
   "language": "python",
   "name": "python3"
  },
  "language_info": {
   "codemirror_mode": {
    "name": "ipython",
    "version": 3
   },
   "file_extension": ".py",
   "mimetype": "text/x-python",
   "name": "python",
   "nbconvert_exporter": "python",
   "pygments_lexer": "ipython3",
   "version": "3.11.5"
  }
 },
 "nbformat": 4,
 "nbformat_minor": 5
}
