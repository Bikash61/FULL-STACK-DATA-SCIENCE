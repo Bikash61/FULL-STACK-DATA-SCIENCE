{
 "cells": [
  {
   "cell_type": "code",
   "execution_count": null,
   "id": "84231959-3f5e-4dfd-a0a2-f9fc733efe2a",
   "metadata": {},
   "outputs": [],
   "source": [
    "try:\n",
    "    print(X)\n",
    "except:\n",
    "    print(\"There is no X in the code\")"
   ]
  },
  {
   "cell_type": "code",
   "execution_count": 14,
   "id": "ed9f23ba-be8d-46ec-a651-906174d2f524",
   "metadata": {},
   "outputs": [
    {
     "name": "stdout",
     "output_type": "stream",
     "text": [
      "100\n",
      "The is no error\n"
     ]
    }
   ],
   "source": [
    "x = 100\n",
    "try:\n",
    "    print(x)\n",
    "except:\n",
    "    print(\"There is no X in the code\")\n",
    "else:\n",
    "    print(\"The is no error\")"
   ]
  },
  {
   "cell_type": "code",
   "execution_count": 16,
   "id": "885e4462-9926-47d4-ba23-8e7380460633",
   "metadata": {},
   "outputs": [
    {
     "name": "stdout",
     "output_type": "stream",
     "text": [
      "The is no a\n",
      "Try and except are executed\n"
     ]
    }
   ],
   "source": [
    "try:\n",
    "    print(a)\n",
    "except:\n",
    "    print(\"The is no a\")\n",
    "finally:\n",
    "    print(\"Try and except are executed\")"
   ]
  },
  {
   "cell_type": "code",
   "execution_count": 18,
   "id": "6515c965-6a32-4b46-be84-33627da6d362",
   "metadata": {},
   "outputs": [
    {
     "ename": "Exception",
     "evalue": "The is an issue in it ",
     "output_type": "error",
     "traceback": [
      "\u001b[1;31m---------------------------------------------------------------------------\u001b[0m",
      "\u001b[1;31mException\u001b[0m                                 Traceback (most recent call last)",
      "Cell \u001b[1;32mIn[18], line 3\u001b[0m\n\u001b[0;32m      1\u001b[0m x \u001b[38;5;241m=\u001b[39m \u001b[38;5;241m10\u001b[39m\n\u001b[0;32m      2\u001b[0m \u001b[38;5;28;01mif\u001b[39;00m x \u001b[38;5;241m<\u001b[39m \u001b[38;5;241m20\u001b[39m:\n\u001b[1;32m----> 3\u001b[0m     \u001b[38;5;28;01mraise\u001b[39;00m \u001b[38;5;167;01mException\u001b[39;00m(\u001b[38;5;124m\"\u001b[39m\u001b[38;5;124mThe is an issue in it \u001b[39m\u001b[38;5;124m\"\u001b[39m)\n",
      "\u001b[1;31mException\u001b[0m: The is an issue in it "
     ]
    }
   ],
   "source": [
    "x = 10\n",
    "if x < 20:\n",
    "    raise Exception(\"The is an issue in it \")"
   ]
  },
  {
   "cell_type": "code",
   "execution_count": 22,
   "id": "6551d6c3-9074-4ce8-b686-a9bfca1eb0f4",
   "metadata": {},
   "outputs": [
    {
     "name": "stdin",
     "output_type": "stream",
     "text": [
      "Enter the value of a 2\n"
     ]
    },
    {
     "ename": "Exception",
     "evalue": "The value is less than 10 make it more than that",
     "output_type": "error",
     "traceback": [
      "\u001b[1;31m---------------------------------------------------------------------------\u001b[0m",
      "\u001b[1;31mException\u001b[0m                                 Traceback (most recent call last)",
      "Cell \u001b[1;32mIn[22], line 3\u001b[0m\n\u001b[0;32m      1\u001b[0m a \u001b[38;5;241m=\u001b[39m \u001b[38;5;28mint\u001b[39m(\u001b[38;5;28minput\u001b[39m(\u001b[38;5;124m\"\u001b[39m\u001b[38;5;124mEnter the value of a\u001b[39m\u001b[38;5;124m\"\u001b[39m))\n\u001b[0;32m      2\u001b[0m \u001b[38;5;28;01mif\u001b[39;00m a \u001b[38;5;241m<\u001b[39m \u001b[38;5;241m10\u001b[39m:\n\u001b[1;32m----> 3\u001b[0m     \u001b[38;5;28;01mraise\u001b[39;00m \u001b[38;5;167;01mException\u001b[39;00m(\u001b[38;5;124m\"\u001b[39m\u001b[38;5;124mThe value is less than 10 make it more than that\u001b[39m\u001b[38;5;124m\"\u001b[39m)\n\u001b[0;32m      4\u001b[0m \u001b[38;5;28;01melse\u001b[39;00m:\n\u001b[0;32m      5\u001b[0m     \u001b[38;5;28mprint\u001b[39m(a)\n",
      "\u001b[1;31mException\u001b[0m: The value is less than 10 make it more than that"
     ]
    }
   ],
   "source": [
    "a = int(input(\"Enter the value of a\"))\n",
    "if a < 10:\n",
    "    raise Exception(\"The value is less than 10 make it more than that\")\n",
    "else:\n",
    "    print(a)"
   ]
  },
  {
   "cell_type": "code",
   "execution_count": 31,
   "id": "a4c6cf45-5795-48cc-8732-437a581203dd",
   "metadata": {},
   "outputs": [
    {
     "name": "stdin",
     "output_type": "stream",
     "text": [
      "Enter the number 5\n"
     ]
    },
    {
     "name": "stdout",
     "output_type": "stream",
     "text": [
      "Code run sucessfully\n"
     ]
    },
    {
     "ename": "Exception",
     "evalue": "You have enter value less than 10",
     "output_type": "error",
     "traceback": [
      "\u001b[1;31m---------------------------------------------------------------------------\u001b[0m",
      "\u001b[1;31mException\u001b[0m                                 Traceback (most recent call last)",
      "Cell \u001b[1;32mIn[31], line 4\u001b[0m\n\u001b[0;32m      2\u001b[0m     b \u001b[38;5;241m=\u001b[39m \u001b[38;5;28mint\u001b[39m(\u001b[38;5;28minput\u001b[39m(\u001b[38;5;124m\"\u001b[39m\u001b[38;5;124mEnter the number\u001b[39m\u001b[38;5;124m\"\u001b[39m))\n\u001b[0;32m      3\u001b[0m     \u001b[38;5;28;01mif\u001b[39;00m b \u001b[38;5;241m<\u001b[39m \u001b[38;5;241m10\u001b[39m:\n\u001b[1;32m----> 4\u001b[0m             \u001b[38;5;28;01mraise\u001b[39;00m \u001b[38;5;167;01mException\u001b[39;00m(\u001b[38;5;124m\"\u001b[39m\u001b[38;5;124mYou have enter value less than 10\u001b[39m\u001b[38;5;124m\"\u001b[39m)\n\u001b[0;32m      5\u001b[0m \u001b[38;5;28;01mfinally\u001b[39;00m:\n\u001b[0;32m      6\u001b[0m     \u001b[38;5;28mprint\u001b[39m(\u001b[38;5;124m\"\u001b[39m\u001b[38;5;124mCode run sucessfully\u001b[39m\u001b[38;5;124m\"\u001b[39m)\n",
      "\u001b[1;31mException\u001b[0m: You have enter value less than 10"
     ]
    }
   ],
   "source": [
    "try:\n",
    "    b = int(input(\"Enter the number\"))\n",
    "    if b < 10:\n",
    "            raise Exception(\"You have enter value less than 10\")\n",
    "finally:\n",
    "    print(\"Code run sucessfully\")"
   ]
  },
  {
   "cell_type": "code",
   "execution_count": 34,
   "id": "08e2bd10-880e-444a-8550-99ff044b0cb3",
   "metadata": {},
   "outputs": [
    {
     "name": "stdin",
     "output_type": "stream",
     "text": [
      "Enter the first number 5\n",
      "Enter the second number 0\n"
     ]
    },
    {
     "name": "stdout",
     "output_type": "stream",
     "text": [
      "You have divided it by 0 in code \n"
     ]
    }
   ],
   "source": [
    "try:\n",
    "    a = int(input(\"Enter the first number\"))\n",
    "    b = int(input(\"Enter the second number\"))\n",
    "    result = a/b\n",
    "    print(\"Result is : \",result)\n",
    "except ZeroDivisionError:\n",
    "    print(\"You have divided it by 0 in code \")"
   ]
  },
  {
   "cell_type": "code",
   "execution_count": 4,
   "id": "ce9315f4-4cb5-41fb-a971-c0273665885c",
   "metadata": {},
   "outputs": [
    {
     "name": "stdin",
     "output_type": "stream",
     "text": [
      "Enter the first number 4\n",
      "Enter the second number 4\n"
     ]
    },
    {
     "name": "stdout",
     "output_type": "stream",
     "text": [
      "Result :  1.0\n"
     ]
    }
   ],
   "source": [
    "try:\n",
    "    a = int(input(\"Enter the first number\"))\n",
    "    b = int(input(\"Enter the second number\"))\n",
    "    result = a/b\n",
    "    print(\"Result : \", result)\n",
    "except ZeroDivisionError:\n",
    "    print(\"You have entered the zero which can't be divided\")\n",
    "except ValueError:\n",
    "    print(\"You need to enter the integer but you have enetered float\")"
   ]
  },
  {
   "cell_type": "code",
   "execution_count": 9,
   "id": "b0c5ab48-5357-442d-babd-2aff35bcc44f",
   "metadata": {},
   "outputs": [
    {
     "name": "stdin",
     "output_type": "stream",
     "text": [
      "Enter the first number 1\n"
     ]
    },
    {
     "name": "stdout",
     "output_type": "stream",
     "text": [
      "You have entered string or otherdigit\n"
     ]
    }
   ],
   "source": [
    "## Type error \n",
    "try:\n",
    "    a = int(input(\"Enter the first number\"))\n",
    "    b = \"10\"\n",
    "    result = a/b\n",
    "    print(\"Result : \", result)\n",
    "except TypeError:\n",
    "    print(\"You have entered string or otherdigit\")"
   ]
  },
  {
   "cell_type": "code",
   "execution_count": 11,
   "id": "35735a86-538d-4b46-bfc5-6913fb113cb5",
   "metadata": {},
   "outputs": [
    {
     "name": "stdout",
     "output_type": "stream",
     "text": [
      "There is no any number for that index\n"
     ]
    }
   ],
   "source": [
    "##index error \n",
    "try:\n",
    "    x = [1,2,3,2,221,1,12,12]\n",
    "    print(x[12])\n",
    "except IndexError:\n",
    "    print(\"There is no any number for that index\")"
   ]
  },
  {
   "cell_type": "code",
   "execution_count": null,
   "id": "4c236ab2-69e3-4225-be00-ed4af1bab77e",
   "metadata": {},
   "outputs": [],
   "source": [
    "try:\n",
    "    x = [1,2,3,32,2332,23,23]\n",
    "    y = int(input(\"Enter the number\"))\n",
    "    result = x/y\n",
    "    print(result)\n",
    "except ValueError:\n",
    "    print(\"You had given the wrong value\")\n",
    "except TypeError:\n",
    "    print(\"You have given the wrong type\")\n",
    "except ZeroDivisionError:\n",
    "    print(\"You have entered the zero\")\n",
    "except IndexError:\n",
    "    print(\"You have gievn the wrong index\")"
   ]
  },
  {
   "cell_type": "code",
   "execution_count": 1,
   "id": "47a9d88e-0f15-4efc-b158-0b5e8b3c10d2",
   "metadata": {},
   "outputs": [
    {
     "name": "stdout",
     "output_type": "stream",
     "text": [
      "You have entered a wrong key\n"
     ]
    }
   ],
   "source": [
    "try: \n",
    "    my_dictionary = {\n",
    "        'apple':10,\n",
    "        'ball': 23\n",
    "    }\n",
    "    print(my_dictionary['cat'])\n",
    "except KeyError:\n",
    "    print(\"You have entered a wrong key\")"
   ]
  },
  {
   "cell_type": "code",
   "execution_count": 4,
   "id": "f8730b8c-80c8-482f-9d53-2e7f58ab9c79",
   "metadata": {},
   "outputs": [
    {
     "name": "stdout",
     "output_type": "stream",
     "text": [
      "Here is the IO error\n"
     ]
    }
   ],
   "source": [
    "try:\n",
    "    filelocation = 'myFile.txt'\n",
    "    with open(filelocation, 'r') as file:\n",
    "        contents = file.read()\n",
    "except IOError:\n",
    "    print(\"Here is the IO error\")\n",
    "except FileNotFoundError:\n",
    "    print(\"File, you are looking is not here.\")"
   ]
  },
  {
   "cell_type": "code",
   "execution_count": 5,
   "id": "1df5668c-66b2-45f7-b0e6-2e9e2560e048",
   "metadata": {},
   "outputs": [
    {
     "name": "stdout",
     "output_type": "stream",
     "text": [
      "Particular packages in not here.\n"
     ]
    }
   ],
   "source": [
    "## import error \n",
    "try:\n",
    "    import packages1221\n",
    "except ImportError:\n",
    "    print(\"Particular packages in not here.\")"
   ]
  },
  {
   "cell_type": "code",
   "execution_count": 14,
   "id": "d6401843-c6e0-4a62-a07a-1428dbec733f",
   "metadata": {},
   "outputs": [
    {
     "name": "stdout",
     "output_type": "stream",
     "text": [
      "RAM couldn't process it\n"
     ]
    }
   ],
   "source": [
    "try:\n",
    "    big_list = [1] * (10**12)\n",
    "    print(big_list)\n",
    "except MemoryError:\n",
    "    print(\"RAM couldn't process it\")"
   ]
  },
  {
   "cell_type": "code",
   "execution_count": null,
   "id": "de40d0ab-5e35-49a0-9dbc-15547f2c7380",
   "metadata": {},
   "outputs": [],
   "source": []
  }
 ],
 "metadata": {
  "kernelspec": {
   "display_name": "Python 3 (ipykernel)",
   "language": "python",
   "name": "python3"
  },
  "language_info": {
   "codemirror_mode": {
    "name": "ipython",
    "version": 3
   },
   "file_extension": ".py",
   "mimetype": "text/x-python",
   "name": "python",
   "nbconvert_exporter": "python",
   "pygments_lexer": "ipython3",
   "version": "3.11.5"
  }
 },
 "nbformat": 4,
 "nbformat_minor": 5
}
