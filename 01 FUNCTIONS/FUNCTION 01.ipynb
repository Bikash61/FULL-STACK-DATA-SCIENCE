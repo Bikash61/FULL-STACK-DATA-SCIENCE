{
 "cells": [
  {
   "cell_type": "code",
   "execution_count": 2,
   "id": "966b75ed-65d0-4fcc-b03a-dcf2ee90d71c",
   "metadata": {},
   "outputs": [],
   "source": [
    "def introduction(name, surname):\n",
    "    print(\"My name is\", name, \"and my surname is\", surname)"
   ]
  },
  {
   "cell_type": "code",
   "execution_count": 4,
   "id": "07d65786-4ee1-46b4-bbd1-da5e34428ab5",
   "metadata": {},
   "outputs": [
    {
     "name": "stdout",
     "output_type": "stream",
     "text": [
      "My name is Bikash and my surname is Bashyal\n"
     ]
    }
   ],
   "source": [
    "introduction(\"Bikash\", \"Bashyal\")"
   ]
  },
  {
   "cell_type": "code",
   "execution_count": 10,
   "id": "3f9ca5b1-b208-43d6-a464-3439b08b0ef8",
   "metadata": {},
   "outputs": [],
   "source": [
    "def college(name):\n",
    "    print(\"The name of the college is\", name)"
   ]
  },
  {
   "cell_type": "code",
   "execution_count": 11,
   "id": "20940244-ed16-4c8d-96b7-0513d0a624b8",
   "metadata": {},
   "outputs": [
    {
     "name": "stdout",
     "output_type": "stream",
     "text": [
      "The name of the college is MMDU\n"
     ]
    }
   ],
   "source": [
    "college(\"MMDU\")"
   ]
  },
  {
   "cell_type": "code",
   "execution_count": 14,
   "id": "d2843820-eacd-4fc0-9252-0a3927de72bd",
   "metadata": {},
   "outputs": [],
   "source": [
    "def sum_num(a,b):\n",
    "    summ = a + b\n",
    "    return summ"
   ]
  },
  {
   "cell_type": "code",
   "execution_count": 16,
   "id": "ccdc5e87-f322-4d9d-bfdc-27f9d964eb97",
   "metadata": {},
   "outputs": [
    {
     "data": {
      "text/plain": [
       "101"
      ]
     },
     "execution_count": 16,
     "metadata": {},
     "output_type": "execute_result"
    }
   ],
   "source": [
    "sum_num(12,89)"
   ]
  },
  {
   "cell_type": "code",
   "execution_count": 17,
   "id": "e547dbec-8c3a-4afb-90da-1d2da9f8a3b4",
   "metadata": {},
   "outputs": [],
   "source": [
    "def intrest(p,t,r):\n",
    "    product = (p*t*r)/100\n",
    "    return product"
   ]
  },
  {
   "cell_type": "code",
   "execution_count": 18,
   "id": "aa6ae09b-e2b4-44ef-b00f-b7a8c9247f8e",
   "metadata": {},
   "outputs": [
    {
     "data": {
      "text/plain": [
       "240.0"
      ]
     },
     "execution_count": 18,
     "metadata": {},
     "output_type": "execute_result"
    }
   ],
   "source": [
    "intrest(1000,2,12)"
   ]
  },
  {
   "cell_type": "code",
   "execution_count": 19,
   "id": "9888001f-dcc9-456d-aca0-7a349395e5d9",
   "metadata": {},
   "outputs": [],
   "source": [
    "def nums(a,b):\n",
    "    sum = a+b\n",
    "    divide = a/b\n",
    "    multiply = a*b\n",
    "    sub = a-b\n",
    "    return sum, divide, multiply , sub"
   ]
  },
  {
   "cell_type": "code",
   "execution_count": 20,
   "id": "f0f2ec1c-1a8b-477c-8d19-a81c967c37f5",
   "metadata": {},
   "outputs": [
    {
     "data": {
      "text/plain": [
       "(12, 5.0, 20, 8)"
      ]
     },
     "execution_count": 20,
     "metadata": {},
     "output_type": "execute_result"
    }
   ],
   "source": [
    "nums(10,2)"
   ]
  },
  {
   "cell_type": "code",
   "execution_count": 29,
   "id": "1769ec56-7563-4a7d-a12d-aff29c448f2c",
   "metadata": {},
   "outputs": [],
   "source": [
    "def Capital(name, name2):\n",
    "    a = name.capitalize()\n",
    "    b = name2.capitalize()\n",
    "    return a,b"
   ]
  },
  {
   "cell_type": "code",
   "execution_count": 30,
   "id": "83bb596f-91c8-41aa-8ed3-58b50b18d633",
   "metadata": {},
   "outputs": [
    {
     "data": {
      "text/plain": [
       "('Hsweaq', 'Maeneo')"
      ]
     },
     "execution_count": 30,
     "metadata": {},
     "output_type": "execute_result"
    }
   ],
   "source": [
    "Capital('HSweaQ', 'mAeneo')"
   ]
  },
  {
   "cell_type": "code",
   "execution_count": 34,
   "id": "b2476314-c747-4269-98c4-a8ac667cb841",
   "metadata": {},
   "outputs": [],
   "source": [
    "def cap():\n",
    "    nam = input('Enter the first name: ')\n",
    "    nam1 = input(\"Enter the second name: \")\n",
    "    a = nam.capitalize()\n",
    "    b = nam1.capitalize()\n",
    "    return a,b"
   ]
  },
  {
   "cell_type": "code",
   "execution_count": 35,
   "id": "48cc8c9a-75dc-4011-a281-f023997b3ac7",
   "metadata": {},
   "outputs": [
    {
     "name": "stdin",
     "output_type": "stream",
     "text": [
      "Enter the first name:  BaswYhea\n",
      "Enter the second name:  alTER\n"
     ]
    },
    {
     "data": {
      "text/plain": [
       "('Baswyhea', 'Alter')"
      ]
     },
     "execution_count": 35,
     "metadata": {},
     "output_type": "execute_result"
    }
   ],
   "source": [
    "cap()\n"
   ]
  },
  {
   "cell_type": "code",
   "execution_count": 45,
   "id": "68eec955-eb3b-4359-9091-389ae1bd6765",
   "metadata": {},
   "outputs": [],
   "source": [
    "# Write a function which print the number that is even till that number which user had given \n",
    "def print_even():\n",
    "    num = int(input(\"Enter the number: \"))\n",
    "    even_numbers = []\n",
    "    for i in range(1, num+1):\n",
    "        if i % 2 == 0:\n",
    "            even_numbers.append(i)\n",
    "            i+=1\n",
    "    return even_numbers"
   ]
  },
  {
   "cell_type": "code",
   "execution_count": 46,
   "id": "3772cbb3-d1f1-4bb1-be3f-c2fd384a0aaa",
   "metadata": {},
   "outputs": [
    {
     "name": "stdin",
     "output_type": "stream",
     "text": [
      "Enter the number:  56\n"
     ]
    },
    {
     "data": {
      "text/plain": [
       "[2,\n",
       " 4,\n",
       " 6,\n",
       " 8,\n",
       " 10,\n",
       " 12,\n",
       " 14,\n",
       " 16,\n",
       " 18,\n",
       " 20,\n",
       " 22,\n",
       " 24,\n",
       " 26,\n",
       " 28,\n",
       " 30,\n",
       " 32,\n",
       " 34,\n",
       " 36,\n",
       " 38,\n",
       " 40,\n",
       " 42,\n",
       " 44,\n",
       " 46,\n",
       " 48,\n",
       " 50,\n",
       " 52,\n",
       " 54,\n",
       " 56]"
      ]
     },
     "execution_count": 46,
     "metadata": {},
     "output_type": "execute_result"
    }
   ],
   "source": [
    "print_even()"
   ]
  },
  {
   "cell_type": "code",
   "execution_count": 46,
   "id": "cbcb2ecf-a2c3-494d-b0f4-0bfaa3dd06ab",
   "metadata": {},
   "outputs": [
    {
     "name": "stdin",
     "output_type": "stream",
     "text": [
      "Enter the number:  56\n"
     ]
    },
    {
     "data": {
      "text/plain": [
       "[2,\n",
       " 4,\n",
       " 6,\n",
       " 8,\n",
       " 10,\n",
       " 12,\n",
       " 14,\n",
       " 16,\n",
       " 18,\n",
       " 20,\n",
       " 22,\n",
       " 24,\n",
       " 26,\n",
       " 28,\n",
       " 30,\n",
       " 32,\n",
       " 34,\n",
       " 36,\n",
       " 38,\n",
       " 40,\n",
       " 42,\n",
       " 44,\n",
       " 46,\n",
       " 48,\n",
       " 50,\n",
       " 52,\n",
       " 54,\n",
       " 56]"
      ]
     },
     "execution_count": 46,
     "metadata": {},
     "output_type": "execute_result"
    }
   ],
   "source": [
    "print_even()"
   ]
  },
  {
   "cell_type": "markdown",
   "id": "360a2b23-9236-419a-92ea-10aedddcee38",
   "metadata": {},
   "source": [
    "## Lambda \n"
   ]
  },
  {
   "cell_type": "code",
   "execution_count": 47,
   "id": "7b200e30-e774-4425-aee2-34653169364a",
   "metadata": {},
   "outputs": [
    {
     "name": "stdout",
     "output_type": "stream",
     "text": [
      "33\n"
     ]
    }
   ],
   "source": [
    "sum = lambda x, y : x+y\n",
    "print(sum(10,23))"
   ]
  },
  {
   "cell_type": "code",
   "execution_count": 48,
   "id": "0c2d240a-531c-4a00-864d-526fe8d4496b",
   "metadata": {},
   "outputs": [
    {
     "name": "stdout",
     "output_type": "stream",
     "text": [
      "-67\n"
     ]
    }
   ],
   "source": [
    "sub = lambda a , b: a-b\n",
    "print(sub(23,90))"
   ]
  },
  {
   "cell_type": "code",
   "execution_count": 49,
   "id": "35b20663-1d5c-4d1d-86b3-3cce97fb2983",
   "metadata": {},
   "outputs": [
    {
     "name": "stdout",
     "output_type": "stream",
     "text": [
      "529\n"
     ]
    }
   ],
   "source": [
    "square = lambda z : z**2\n",
    "print(square(23))"
   ]
  },
  {
   "cell_type": "code",
   "execution_count": 52,
   "id": "482ecae5-4da0-4063-8c01-f3593fb969bf",
   "metadata": {},
   "outputs": [
    {
     "name": "stdout",
     "output_type": "stream",
     "text": [
      "BikashNams\n"
     ]
    }
   ],
   "source": [
    "concat = lambda x, y : x+y\n",
    "print(concat(\"Bikash\", \"Nams\"))"
   ]
  },
  {
   "cell_type": "code",
   "execution_count": 54,
   "id": "c811a275-5e1d-4803-b40d-bba92a971b3d",
   "metadata": {},
   "outputs": [
    {
     "name": "stdout",
     "output_type": "stream",
     "text": [
      "2.4\n"
     ]
    }
   ],
   "source": [
    "divide = lambda a, b: a/b\n",
    "print(divide(12,5))"
   ]
  },
  {
   "cell_type": "code",
   "execution_count": 55,
   "id": "9dde5d6c-38ba-4c2a-9917-4828b7300fc2",
   "metadata": {},
   "outputs": [
    {
     "name": "stdout",
     "output_type": "stream",
     "text": [
      "BIJASBIedewb\n"
     ]
    }
   ],
   "source": [
    "mop = lambda a,g:a+g\n",
    "print(mop(\"BIJAS\", \"BIedewb\"))"
   ]
  },
  {
   "cell_type": "code",
   "execution_count": 61,
   "id": "f783a02a-3e55-48aa-9feb-8d94bd3f75ba",
   "metadata": {},
   "outputs": [
    {
     "name": "stdout",
     "output_type": "stream",
     "text": [
      "odd\n"
     ]
    }
   ],
   "source": [
    "even_or_odd = lambda x : 'even' if x % 2 ==0  else 'odd'\n",
    "print(even_or_odd(1))"
   ]
  },
  {
   "cell_type": "code",
   "execution_count": 62,
   "id": "800eddb1-ceed-4c93-8421-f4e9b3ac5e6b",
   "metadata": {},
   "outputs": [
    {
     "name": "stdout",
     "output_type": "stream",
     "text": [
      "34\n"
     ]
    }
   ],
   "source": [
    "# compare which is greater using labda function \n",
    "is_greater = lambda x , y : x if x>y else y\n",
    "print(is_greater(12,34))"
   ]
  },
  {
   "cell_type": "code",
   "execution_count": null,
   "id": "ed9853c2-50e9-4745-a087-f3817a5e5553",
   "metadata": {},
   "outputs": [],
   "source": []
  }
 ],
 "metadata": {
  "kernelspec": {
   "display_name": "Python 3 (ipykernel)",
   "language": "python",
   "name": "python3"
  },
  "language_info": {
   "codemirror_mode": {
    "name": "ipython",
    "version": 3
   },
   "file_extension": ".py",
   "mimetype": "text/x-python",
   "name": "python",
   "nbconvert_exporter": "python",
   "pygments_lexer": "ipython3",
   "version": "3.11.5"
  }
 },
 "nbformat": 4,
 "nbformat_minor": 5
}
