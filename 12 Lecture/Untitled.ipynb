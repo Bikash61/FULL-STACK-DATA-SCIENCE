{
 "cells": [
  {
   "cell_type": "code",
   "execution_count": 1,
   "id": "e359ada2-2429-44f2-8778-601b3030f214",
   "metadata": {},
   "outputs": [],
   "source": [
    "class MyCustomException(Exception):\n",
    "    pass"
   ]
  },
  {
   "cell_type": "code",
   "execution_count": 2,
   "id": "8e4ab07e-b21a-4455-912a-6f994bbde5af",
   "metadata": {},
   "outputs": [
    {
     "ename": "MyCustomException",
     "evalue": "This is my customer error",
     "output_type": "error",
     "traceback": [
      "\u001b[1;31m---------------------------------------------------------------------------\u001b[0m",
      "\u001b[1;31mMyCustomException\u001b[0m                         Traceback (most recent call last)",
      "Cell \u001b[1;32mIn[2], line 1\u001b[0m\n\u001b[1;32m----> 1\u001b[0m \u001b[38;5;28;01mraise\u001b[39;00m MyCustomException(\u001b[38;5;124m\"\u001b[39m\u001b[38;5;124mThis is my customer error\u001b[39m\u001b[38;5;124m\"\u001b[39m)\n",
      "\u001b[1;31mMyCustomException\u001b[0m: This is my customer error"
     ]
    }
   ],
   "source": [
    "raise MyCustomException(\"This is my customer error\")"
   ]
  },
  {
   "cell_type": "code",
   "execution_count": 3,
   "id": "bcc83d8c-98f0-450d-a2ca-ed84d119d467",
   "metadata": {},
   "outputs": [],
   "source": [
    "class WrongAge(Exception):\n",
    "    \"This is trigreed when the age in less than 18\"\n",
    "    pass"
   ]
  },
  {
   "cell_type": "code",
   "execution_count": 5,
   "id": "98570497-e2ba-4b19-be1f-4b6a5945c60e",
   "metadata": {},
   "outputs": [
    {
     "name": "stdin",
     "output_type": "stream",
     "text": [
      "Enter the age :  54\n"
     ]
    },
    {
     "name": "stdout",
     "output_type": "stream",
     "text": [
      "You can vote\n"
     ]
    }
   ],
   "source": [
    "n = 18\n",
    "\n",
    "try:\n",
    "    input_age = int(input(\"Enter the age : \"))\n",
    "    if input_age < n:\n",
    "        raise WrongAge\n",
    "    else:\n",
    "        print(\"You can vote\")\n",
    "except WrongAge:\n",
    "    print(\"You can't vote \")\n",
    "    "
   ]
  },
  {
   "cell_type": "markdown",
   "id": "1968ae73-36a8-4f7b-be48-b91a517aa659",
   "metadata": {},
   "source": [
    " # logging \n"
   ]
  },
  {
   "cell_type": "code",
   "execution_count": 11,
   "id": "471ecfed-b7f3-433c-b1b9-ce0fd8c62d64",
   "metadata": {},
   "outputs": [
    {
     "name": "stderr",
     "output_type": "stream",
     "text": [
      "DEBUG:root:The variables are 3 and 4\n"
     ]
    },
    {
     "data": {
      "text/plain": [
       "7"
      ]
     },
     "execution_count": 11,
     "metadata": {},
     "output_type": "execute_result"
    }
   ],
   "source": [
    "import logging \n",
    "logging.basicConfig(level = logging.DEBUG)\n",
    "def add(x,y):\n",
    "    logging.debug('The variables are %s and %s',x,y)\n",
    "    return x+y\n",
    "\n",
    "add(3,4)"
   ]
  },
  {
   "cell_type": "code",
   "execution_count": 12,
   "id": "596d8560-1ed4-4faf-bcc5-7865a7dfa07a",
   "metadata": {},
   "outputs": [
    {
     "name": "stderr",
     "output_type": "stream",
     "text": [
      "INFO:root:The name is Bikash\n"
     ]
    },
    {
     "data": {
      "text/plain": [
       "'Bikash'"
      ]
     },
     "execution_count": 12,
     "metadata": {},
     "output_type": "execute_result"
    }
   ],
   "source": [
    "logging.basicConfig(level = logging.info)\n",
    "def name(a):\n",
    "    logging.info(\"The name is %s\",a)\n",
    "    return a\n",
    "name(\"Bikash\")"
   ]
  },
  {
   "cell_type": "code",
   "execution_count": 15,
   "id": "127f9f2c-e183-41b1-ac32-71d3c3d51789",
   "metadata": {},
   "outputs": [
    {
     "name": "stderr",
     "output_type": "stream",
     "text": [
      "WARNING:root:sorry the amount is below 40,000 and your amount is 121\n"
     ]
    }
   ],
   "source": [
    "logging.basicConfig(level = logging.warning)\n",
    "def mybalance(amount):\n",
    "    if amount < 40000:\n",
    "        logging.warning(\"sorry the amount is below 40,000 and your amount is %s\",amount)\n",
    "mybalance(121)"
   ]
  },
  {
   "cell_type": "code",
   "execution_count": 17,
   "id": "c5dd9917-1c7e-4acd-a68d-f703d3ce3a07",
   "metadata": {},
   "outputs": [
    {
     "name": "stderr",
     "output_type": "stream",
     "text": [
      "ERROR:root:Division by Error\n"
     ]
    }
   ],
   "source": [
    "logging.basicConfig(level = logging.warning)\n",
    "def DividedByZero(n,d):\n",
    "    try:\n",
    "        result = n/d\n",
    "    except ZeroDivisionError:\n",
    "        logging.error(\"Division by Error\")\n",
    "    else:\n",
    "        print(result)\n",
    "DividedByZero(2,0)\n"
   ]
  },
  {
   "cell_type": "markdown",
   "id": "80b36525-d125-4d23-b439-0882d362036e",
   "metadata": {},
   "source": [
    "# OS"
   ]
  },
  {
   "cell_type": "code",
   "execution_count": 18,
   "id": "775d84c0-617f-4a28-aa52-32d9477a958e",
   "metadata": {},
   "outputs": [
    {
     "name": "stdout",
     "output_type": "stream",
     "text": [
      "C:\\Users\\Lenovo\\Desktop\\FULL STACK DATA SCIENCE COURSE\\12 Lecture\n"
     ]
    }
   ],
   "source": [
    "import os\n",
    "print(os.getcwd())"
   ]
  },
  {
   "cell_type": "code",
   "execution_count": 19,
   "id": "3cb0bf24-a5f2-4dec-995a-5feebc6ca005",
   "metadata": {},
   "outputs": [
    {
     "name": "stderr",
     "output_type": "stream",
     "text": [
      "CRITICAL:root:System failure: You need to handle the issue now\n"
     ]
    }
   ],
   "source": [
    "import os\n",
    "import logging\n",
    "\n",
    "# Specify the directory and file\n",
    "dir_path = r'C:\\Users\\Lenovo\\Desktop\\FULL STACK DATA SCIENCE COURSE\\12 Lecture'\n",
    "log_file = 'system.txt'\n",
    "full_path = os.path.join(dir_path, log_file)\n",
    "\n",
    "# Check if the directory exists and create it if necessary\n",
    "os.makedirs(dir_path, exist_ok=True)\n",
    "\n",
    "# Set up logging\n",
    "# Get a logger instance (this will fetch the root logger)\n",
    "logger = logging.getLogger()\n",
    "\n",
    "# Set the level of the logger to CRITICAL\n",
    "# This means it will handle events of level CRITICAL and above\n",
    "logger.setLevel(logging.CRITICAL)\n",
    "\n",
    "# Create a FileHandler instance to write logs to a file\n",
    "handler = logging.FileHandler(full_path)\n",
    "\n",
    "# Set the format of the logs using a Formatter\n",
    "# This format includes the log timestamp, log level and log message\n",
    "handler.setFormatter(logging.Formatter('%(asctime)s:%(levelname)s:%(message)s'))\n",
    "\n",
    "# Add the handler to the logger\n",
    "# This connects the logger to the handler so that logs get written to the file\n",
    "logger.addHandler(handler)\n",
    "\n",
    "\n",
    "def LetUsCheckSystem(sys):\n",
    "    if sys != 'OK':\n",
    "        logging.critical('System failure: %s', sys)\n",
    "\n",
    "LetUsCheckSystem('You need to handle the issue now')\n",
    "handler.close()\n"
   ]
  },
  {
   "cell_type": "code",
   "execution_count": null,
   "id": "5cb1a2cf-fd99-4e79-98d2-8e274991af2c",
   "metadata": {},
   "outputs": [],
   "source": []
  }
 ],
 "metadata": {
  "kernelspec": {
   "display_name": "Python 3 (ipykernel)",
   "language": "python",
   "name": "python3"
  },
  "language_info": {
   "codemirror_mode": {
    "name": "ipython",
    "version": 3
   },
   "file_extension": ".py",
   "mimetype": "text/x-python",
   "name": "python",
   "nbconvert_exporter": "python",
   "pygments_lexer": "ipython3",
   "version": "3.11.5"
  }
 },
 "nbformat": 4,
 "nbformat_minor": 5
}
