{
 "cells": [
  {
   "cell_type": "code",
   "execution_count": 8,
   "id": "a3feac1e-4696-40e3-a1d0-9eb9c651f7f5",
   "metadata": {},
   "outputs": [
    {
     "name": "stdin",
     "output_type": "stream",
     "text": [
      "Enter the number 56\n",
      "Enter the number 56\n",
      "Enter the number 54\n"
     ]
    },
    {
     "name": "stdout",
     "output_type": "stream",
     "text": [
      "166\n"
     ]
    }
   ],
   "source": [
    "f = lambda a,b,c : a+b+c\n",
    "a = int(input(\"Enter the number\"))\n",
    "b = int(input(\"Enter the number\"))\n",
    "c = int(input(\"Enter the number\"))\n",
    "print(f(a,b,c))"
   ]
  },
  {
   "cell_type": "code",
   "execution_count": 17,
   "id": "8ea5063a-5417-4e99-b3a2-65a8f4a95d28",
   "metadata": {},
   "outputs": [
    {
     "name": "stdin",
     "output_type": "stream",
     "text": [
      "Enter the  number 5\n",
      "Enter the se number 5\n"
     ]
    },
    {
     "name": "stdout",
     "output_type": "stream",
     "text": [
      "10\n"
     ]
    }
   ],
   "source": [
    "ad = lambda : int(input(\"Enter the  number\")) + int(input(\"Enter the se number\")) \n",
    "print(ad())"
   ]
  },
  {
   "cell_type": "code",
   "execution_count": 18,
   "id": "c2eb50f0-a491-42aa-b5bb-6bd2bcb470f8",
   "metadata": {},
   "outputs": [
    {
     "name": "stdout",
     "output_type": "stream",
     "text": [
      "[1, 4, 9, 16, 25, 36]\n"
     ]
    }
   ],
   "source": [
    "# operation of list in lambda function \n",
    "my_list_cal = lambda x : [i **2 for i in x ]\n",
    "print(my_list_cal([1,2,3,4,5,6]))"
   ]
  },
  {
   "cell_type": "markdown",
   "id": "fb84f8ac-315b-4989-8acb-e6d8d782ecec",
   "metadata": {},
   "source": [
    "# lambda is used with map() reduce() filter() and sorted functions "
   ]
  },
  {
   "cell_type": "code",
   "execution_count": 26,
   "id": "72f782e1-da9b-4d8a-a6c2-cbf97b13b8aa",
   "metadata": {},
   "outputs": [
    {
     "name": "stdout",
     "output_type": "stream",
     "text": [
      "{'name': 'tablet', 'price': 1300}\n",
      "{'name': 'phone', 'price': 10000}\n",
      "{'name': 'Laptop', 'price': 320000}\n",
      "{'name': 'Car', 'price': 2230000}\n"
     ]
    }
   ],
   "source": [
    "products = [\n",
    "    { 'name' :'phone' ,'price' : 10000},\n",
    "    { 'name' :'Laptop' ,'price': 320000},\n",
    "    { 'name' :'Car','price' : 2230000},\n",
    "    { 'name' :'tablet' ,'price': 1300},\n",
    "]\n",
    "sorted_price = sorted(products, key = lambda x : x['price'])\n",
    "for product in sorted_price:\n",
    "    print(product)"
   ]
  },
  {
   "cell_type": "markdown",
   "id": "8d4bfddb-f11b-47f8-9b60-313531382794",
   "metadata": {},
   "source": [
    "## Recursion"
   ]
  },
  {
   "cell_type": "code",
   "execution_count": 30,
   "id": "8bf23dd8-e3cc-4744-9b2f-762e6e1e01a8",
   "metadata": {},
   "outputs": [
    {
     "name": "stdin",
     "output_type": "stream",
     "text": [
      "Enter the number 3\n"
     ]
    },
    {
     "data": {
      "text/plain": [
       "6"
      ]
     },
     "execution_count": 30,
     "metadata": {},
     "output_type": "execute_result"
    }
   ],
   "source": [
    "n = int(input(\"Enter the number\"))\n",
    "def recu_sum(n):\n",
    "    if n == 1:\n",
    "        return 1\n",
    "    else:\n",
    "        return n + recu_sum(n-1)\n",
    "recu_sum(n)"
   ]
  },
  {
   "cell_type": "code",
   "execution_count": 48,
   "id": "b882e4ad-86d2-40da-b69c-1d8f830422bc",
   "metadata": {},
   "outputs": [
    {
     "data": {
      "text/plain": [
       "13"
      ]
     },
     "execution_count": 48,
     "metadata": {},
     "output_type": "execute_result"
    }
   ],
   "source": [
    "# Fibonnachi \n",
    "def fibonnachi(n):\n",
    "    if n<=1:\n",
    "        return n\n",
    "    else:\n",
    "        return fibonnachi(n-1)+fibonnachi(n-2)\n",
    "fibonnachi(7)"
   ]
  },
  {
   "cell_type": "code",
   "execution_count": 49,
   "id": "1ee85fe2-50e9-4f11-b76f-d5b9bc6f5e30",
   "metadata": {},
   "outputs": [
    {
     "data": {
      "text/plain": [
       "[0, 1, 1, 2, 3, 5, 8]"
      ]
     },
     "execution_count": 49,
     "metadata": {},
     "output_type": "execute_result"
    }
   ],
   "source": [
    "def print_fib(n):\n",
    "    if n == 0:\n",
    "        return []\n",
    "    elif n == 1:\n",
    "        return [0]\n",
    "    elif n ==2:\n",
    "        return [0,1]\n",
    "    else:\n",
    "        fib_series = print_fib(n-1)\n",
    "        fib_series.append(fib_series[-1]+ fib_series[-2])\n",
    "    return fib_series\n",
    "print_fib(7)"
   ]
  },
  {
   "cell_type": "code",
   "execution_count": null,
   "id": "2b2de1eb-9555-4161-bbd2-904f7254a494",
   "metadata": {},
   "outputs": [],
   "source": []
  }
 ],
 "metadata": {
  "kernelspec": {
   "display_name": "Python 3 (ipykernel)",
   "language": "python",
   "name": "python3"
  },
  "language_info": {
   "codemirror_mode": {
    "name": "ipython",
    "version": 3
   },
   "file_extension": ".py",
   "mimetype": "text/x-python",
   "name": "python",
   "nbconvert_exporter": "python",
   "pygments_lexer": "ipython3",
   "version": "3.11.5"
  }
 },
 "nbformat": 4,
 "nbformat_minor": 5
}
